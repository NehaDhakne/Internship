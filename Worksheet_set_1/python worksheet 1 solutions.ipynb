{
 "cells": [
  {
   "cell_type": "markdown",
   "metadata": {},
   "source": [
    "1. Which of the following operators is used to calculate remainder in a division?\n",
    "\n",
    "A) #                                     \n",
    "\n",
    "B) &\n",
    "\n",
    "C) %           \n",
    "\n",
    "D) $\n"
   ]
  },
  {
   "cell_type": "code",
   "execution_count": 1,
   "metadata": {},
   "outputs": [
    {
     "name": "stdout",
     "output_type": "stream",
     "text": [
      "1\n"
     ]
    }
   ],
   "source": [
    "#Answer is C) %\n",
    "\n",
    "x=16\n",
    "y=5\n",
    "\n",
    "print(x%y)"
   ]
  },
  {
   "cell_type": "markdown",
   "metadata": {},
   "source": [
    "2. In python 2//3 is equal to?\n",
    "\n",
    "A) 0.666\n",
    "\n",
    "B) 0\n",
    "\n",
    "C) 1 \n",
    "\n",
    "D) 0.67\n"
   ]
  },
  {
   "cell_type": "code",
   "execution_count": 2,
   "metadata": {},
   "outputs": [
    {
     "name": "stdout",
     "output_type": "stream",
     "text": [
      "0\n"
     ]
    }
   ],
   "source": [
    "#Answer is B) 0\n",
    "\n",
    "p = 2\n",
    "q = 3\n",
    "\n",
    "print(p//q)"
   ]
  },
  {
   "cell_type": "markdown",
   "metadata": {},
   "source": [
    "3. In python, 6<<2 is equal to?\n",
    "\n",
    "A) 36 \n",
    "\n",
    "B) 10\n",
    "\n",
    "C) 24 \n",
    "\n",
    "D) 45"
   ]
  },
  {
   "cell_type": "code",
   "execution_count": 3,
   "metadata": {},
   "outputs": [
    {
     "name": "stdout",
     "output_type": "stream",
     "text": [
      "24\n"
     ]
    }
   ],
   "source": [
    "#Answer is C) 24\n",
    "\n",
    "a=6\n",
    "b=2\n",
    "\n",
    "print(a<<b)"
   ]
  },
  {
   "cell_type": "markdown",
   "metadata": {},
   "source": [
    "4. In python, 6&2 will give which of the following as output?\n",
    "\n",
    "A) 2 \n",
    "\n",
    "B) True\n",
    "\n",
    "C) False\n",
    "\n",
    "D) 0"
   ]
  },
  {
   "cell_type": "code",
   "execution_count": 4,
   "metadata": {},
   "outputs": [
    {
     "name": "stdout",
     "output_type": "stream",
     "text": [
      "2\n"
     ]
    }
   ],
   "source": [
    "#Answer is A) 2\n",
    "\n",
    "a=6\n",
    "b=2\n",
    "\n",
    "print(a&b)"
   ]
  },
  {
   "cell_type": "markdown",
   "metadata": {},
   "source": [
    "5. In python, 6|2 will give which of the following as output?\n",
    "\n",
    "A) 2 \n",
    "\n",
    "B) 4\n",
    "\n",
    "C) 0 \n",
    "\n",
    "D) 6\n"
   ]
  },
  {
   "cell_type": "code",
   "execution_count": 5,
   "metadata": {},
   "outputs": [
    {
     "name": "stdout",
     "output_type": "stream",
     "text": [
      "6\n"
     ]
    }
   ],
   "source": [
    "#Answer is D) 6\n",
    "\n",
    "a=6\n",
    "b=2\n",
    "\n",
    "print(a|b)"
   ]
  },
  {
   "cell_type": "markdown",
   "metadata": {},
   "source": [
    "6. What does the finally keyword denotes in python?\n",
    "\n",
    "A) It is used to mark the end of the code\n",
    "\n",
    "B) It encloses the lines of code which will be executed if any error occurs while executing the lines of code in \n",
    "the try block.\n",
    "\n",
    "C) the finally block will be executed no matter if the try block raises an error or not.\n",
    "\n",
    "D) None of the above\n"
   ]
  },
  {
   "cell_type": "markdown",
   "metadata": {},
   "source": [
    "Answer:  C) The finally block will be executed no matter if the try block raises an error or not."
   ]
  },
  {
   "cell_type": "markdown",
   "metadata": {},
   "source": [
    "7. What does raise keyword is used for in python?\n",
    "\n",
    "A) It is used to raise an exception. \n",
    "\n",
    "B) It is used to define lambda function.\n",
    "\n",
    "C) it's not a keyword in python. \n",
    "\n",
    "D) None of the above\n"
   ]
  },
  {
   "cell_type": "markdown",
   "metadata": {},
   "source": [
    "Answer: A) It is used to raise an exception"
   ]
  },
  {
   "cell_type": "markdown",
   "metadata": {},
   "source": [
    "8. Which of the following is a common use case of yield keyword in python?\n",
    "\n",
    "A) in defining an iterator\n",
    "\n",
    "B) while defining a lambda function\n",
    "\n",
    "C) in defining a generator \n",
    "\n",
    "D) in for loop."
   ]
  },
  {
   "cell_type": "markdown",
   "metadata": {},
   "source": [
    "Answer: C) in defining a generator"
   ]
  },
  {
   "cell_type": "markdown",
   "metadata": {},
   "source": [
    "Q9 and Q10 have multiple correct answers. Choose all the correct options to answer your question.\n"
   ]
  },
  {
   "cell_type": "markdown",
   "metadata": {},
   "source": [
    "9. Which of the following are the valid variable names?\n",
    "\n",
    "A) _abc \n",
    "\n",
    "B) 1abc\n",
    "\n",
    "C) abc2 \n",
    "\n",
    "D) None of the above"
   ]
  },
  {
   "cell_type": "markdown",
   "metadata": {},
   "source": [
    "Answer: A) _abc\n",
    "        \n",
    "  C) abc2"
   ]
  },
  {
   "cell_type": "markdown",
   "metadata": {},
   "source": [
    "10. Which of the following are the keywords in python?\n",
    "\n",
    "A) yield \n",
    "\n",
    "B) raise\n",
    "\n",
    "C) look-in \n",
    "\n",
    "D) all of the above"
   ]
  },
  {
   "cell_type": "markdown",
   "metadata": {},
   "source": [
    "Answer: A) yield\n",
    "\n",
    "B) Raise"
   ]
  },
  {
   "cell_type": "markdown",
   "metadata": {},
   "source": [
    "11. Write a python program to find the factorial of a number.\n"
   ]
  },
  {
   "cell_type": "code",
   "execution_count": 6,
   "metadata": {},
   "outputs": [
    {
     "name": "stdout",
     "output_type": "stream",
     "text": [
      "Enter the number6\n",
      "6\n",
      "Factorial of the above number is:\n",
      "720\n"
     ]
    }
   ],
   "source": [
    "import math\n",
    "\n",
    "num = int(input(\"Enter the number\"))\n",
    "\n",
    "print (num)\n",
    "\n",
    "print(\"Factorial of the above number is:\")\n",
    "\n",
    "print(math.factorial(num))"
   ]
  },
  {
   "cell_type": "markdown",
   "metadata": {},
   "source": [
    "12. Write a python program to find whether a number is prime or composite."
   ]
  },
  {
   "cell_type": "code",
   "execution_count": 7,
   "metadata": {},
   "outputs": [
    {
     "name": "stdout",
     "output_type": "stream",
     "text": [
      "Enter a number13\n",
      "The number entered is: 13\n",
      "13 is prime\n"
     ]
    }
   ],
   "source": [
    "num1 = int(input(\"Enter a number\"))\n",
    "\n",
    "print (\"The number entered is:\", num1)\n",
    "\n",
    "for i in range (2,num1):\n",
    "    if(num1%i)==0:\n",
    "        print(num1, \"is composite\")\n",
    "        break\n",
    "    \n",
    "    else:\n",
    "        print(num1, \"is prime\")\n",
    "        break\n",
    "\n"
   ]
  },
  {
   "cell_type": "markdown",
   "metadata": {},
   "source": [
    "13. Write a python program to check whether a given string is palindrome or not."
   ]
  },
  {
   "cell_type": "code",
   "execution_count": 8,
   "metadata": {},
   "outputs": [
    {
     "name": "stdout",
     "output_type": "stream",
     "text": [
      "enter your string: level\n",
      "you've entered: level\n",
      "It is a palindrome\n"
     ]
    }
   ],
   "source": [
    "str = input(\"enter your string: \")\n",
    "\n",
    "print(\"you've entered:\", str)\n",
    "\n",
    "rev_str = reversed(str)\n",
    "\n",
    "if list(str)==list(rev_str):\n",
    "    print(\"It is a palindrome\")\n",
    "    \n",
    "else:\n",
    "        print(\"It is not a palindrome\")\n",
    "    "
   ]
  },
  {
   "cell_type": "markdown",
   "metadata": {},
   "source": [
    "14. Write a Python program to get the third side of right-angled triangle from two given sides."
   ]
  },
  {
   "cell_type": "code",
   "execution_count": 5,
   "metadata": {},
   "outputs": [
    {
     "name": "stdout",
     "output_type": "stream",
     "text": [
      "Enter the length of the base of the triangle3\n",
      "base is: 3\n",
      "Enter the length of the side of the triangle4\n",
      "side is: 4\n",
      "Third side of the triangle is 5.0\n"
     ]
    }
   ],
   "source": [
    "import math\n",
    "\n",
    "base = int(input(\"Enter the length of the base of the triangle\"))\n",
    "\n",
    "print (\"base is:\", base)\n",
    "\n",
    "side = int(input(\"Enter the length of the side of the triangle\"))\n",
    "\n",
    "print(\"side is:\", side)\n",
    "\n",
    "hypo = ((base)**2) + ((side)**2)\n",
    "\n",
    "hyp = math.sqrt(hypo)\n",
    "\n",
    "\n",
    "print(\"Third side of the triangle is\", hyp)\n"
   ]
  },
  {
   "cell_type": "markdown",
   "metadata": {},
   "source": [
    "15. Write a python program to print the frequency of each of the characters present in a given string"
   ]
  },
  {
   "cell_type": "code",
   "execution_count": 1,
   "metadata": {},
   "outputs": [
    {
     "name": "stdout",
     "output_type": "stream",
     "text": [
      "Enter the string:darren\n",
      "You've entered: darren\n",
      "Frequency of each character:\n",
      " {'d': 1, 'a': 1, 'r': 2, 'e': 1, 'n': 1}\n"
     ]
    }
   ],
   "source": [
    "char = input(\"Enter the string:\")\n",
    "\n",
    "print(\"You've entered:\", char)\n",
    "\n",
    "res ={}\n",
    "\n",
    "for keys in char:\n",
    "    res[keys] = res.get(keys,0) +1\n",
    "    \n",
    "\n",
    "print(\"Frequency of each character:\\n\", res)\n",
    "\n"
   ]
  },
  {
   "cell_type": "code",
   "execution_count": null,
   "metadata": {},
   "outputs": [],
   "source": []
  }
 ],
 "metadata": {
  "kernelspec": {
   "display_name": "Python 3",
   "language": "python",
   "name": "python3"
  },
  "language_info": {
   "codemirror_mode": {
    "name": "ipython",
    "version": 3
   },
   "file_extension": ".py",
   "mimetype": "text/x-python",
   "name": "python",
   "nbconvert_exporter": "python",
   "pygments_lexer": "ipython3",
   "version": "3.8.5"
  }
 },
 "nbformat": 4,
 "nbformat_minor": 4
}
